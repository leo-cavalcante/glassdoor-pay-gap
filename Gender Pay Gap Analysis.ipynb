{
 "cells": [
  {
   "cell_type": "markdown",
   "id": "equal-balloon",
   "metadata": {},
   "source": [
    "# Gender Pay Gap Analysis"
   ]
  },
  {
   "cell_type": "markdown",
   "id": "boxed-hours",
   "metadata": {},
   "source": [
    "## Importing libraries"
   ]
  },
  {
   "cell_type": "code",
   "execution_count": 1,
   "id": "progressive-cruise",
   "metadata": {},
   "outputs": [],
   "source": [
    "import pandas as pd\n",
    "import numpy as np"
   ]
  },
  {
   "cell_type": "markdown",
   "id": "contrary-sapphire",
   "metadata": {},
   "source": [
    "## Importing dataset"
   ]
  },
  {
   "cell_type": "code",
   "execution_count": 5,
   "id": "signal-cattle",
   "metadata": {},
   "outputs": [
    {
     "data": {
      "text/plain": [
       "(1000, 9)"
      ]
     },
     "execution_count": 5,
     "metadata": {},
     "output_type": "execute_result"
    }
   ],
   "source": [
    "glassdoor = pd.read_csv(\"data/Glassdoor Gender Pay Gap.csv\")\n",
    "glassdoor.shape"
   ]
  },
  {
   "cell_type": "code",
   "execution_count": 6,
   "id": "cleared-highland",
   "metadata": {},
   "outputs": [
    {
     "data": {
      "text/html": [
       "<div>\n",
       "<style scoped>\n",
       "    .dataframe tbody tr th:only-of-type {\n",
       "        vertical-align: middle;\n",
       "    }\n",
       "\n",
       "    .dataframe tbody tr th {\n",
       "        vertical-align: top;\n",
       "    }\n",
       "\n",
       "    .dataframe thead th {\n",
       "        text-align: right;\n",
       "    }\n",
       "</style>\n",
       "<table border=\"1\" class=\"dataframe\">\n",
       "  <thead>\n",
       "    <tr style=\"text-align: right;\">\n",
       "      <th></th>\n",
       "      <th>JobTitle</th>\n",
       "      <th>Gender</th>\n",
       "      <th>Age</th>\n",
       "      <th>PerfEval</th>\n",
       "      <th>Education</th>\n",
       "      <th>Dept</th>\n",
       "      <th>Seniority</th>\n",
       "      <th>BasePay</th>\n",
       "      <th>Bonus</th>\n",
       "    </tr>\n",
       "  </thead>\n",
       "  <tbody>\n",
       "    <tr>\n",
       "      <th>0</th>\n",
       "      <td>Graphic Designer</td>\n",
       "      <td>Female</td>\n",
       "      <td>18</td>\n",
       "      <td>5</td>\n",
       "      <td>College</td>\n",
       "      <td>Operations</td>\n",
       "      <td>2</td>\n",
       "      <td>42363</td>\n",
       "      <td>9938</td>\n",
       "    </tr>\n",
       "    <tr>\n",
       "      <th>1</th>\n",
       "      <td>Software Engineer</td>\n",
       "      <td>Male</td>\n",
       "      <td>21</td>\n",
       "      <td>5</td>\n",
       "      <td>College</td>\n",
       "      <td>Management</td>\n",
       "      <td>5</td>\n",
       "      <td>108476</td>\n",
       "      <td>11128</td>\n",
       "    </tr>\n",
       "    <tr>\n",
       "      <th>2</th>\n",
       "      <td>Warehouse Associate</td>\n",
       "      <td>Female</td>\n",
       "      <td>19</td>\n",
       "      <td>4</td>\n",
       "      <td>PhD</td>\n",
       "      <td>Administration</td>\n",
       "      <td>5</td>\n",
       "      <td>90208</td>\n",
       "      <td>9268</td>\n",
       "    </tr>\n",
       "    <tr>\n",
       "      <th>3</th>\n",
       "      <td>Software Engineer</td>\n",
       "      <td>Male</td>\n",
       "      <td>20</td>\n",
       "      <td>5</td>\n",
       "      <td>Masters</td>\n",
       "      <td>Sales</td>\n",
       "      <td>4</td>\n",
       "      <td>108080</td>\n",
       "      <td>10154</td>\n",
       "    </tr>\n",
       "    <tr>\n",
       "      <th>4</th>\n",
       "      <td>Graphic Designer</td>\n",
       "      <td>Male</td>\n",
       "      <td>26</td>\n",
       "      <td>5</td>\n",
       "      <td>Masters</td>\n",
       "      <td>Engineering</td>\n",
       "      <td>5</td>\n",
       "      <td>99464</td>\n",
       "      <td>9319</td>\n",
       "    </tr>\n",
       "    <tr>\n",
       "      <th>5</th>\n",
       "      <td>IT</td>\n",
       "      <td>Female</td>\n",
       "      <td>20</td>\n",
       "      <td>5</td>\n",
       "      <td>PhD</td>\n",
       "      <td>Operations</td>\n",
       "      <td>4</td>\n",
       "      <td>70890</td>\n",
       "      <td>10126</td>\n",
       "    </tr>\n",
       "    <tr>\n",
       "      <th>6</th>\n",
       "      <td>Graphic Designer</td>\n",
       "      <td>Female</td>\n",
       "      <td>20</td>\n",
       "      <td>5</td>\n",
       "      <td>College</td>\n",
       "      <td>Sales</td>\n",
       "      <td>4</td>\n",
       "      <td>67585</td>\n",
       "      <td>10541</td>\n",
       "    </tr>\n",
       "    <tr>\n",
       "      <th>7</th>\n",
       "      <td>Software Engineer</td>\n",
       "      <td>Male</td>\n",
       "      <td>18</td>\n",
       "      <td>4</td>\n",
       "      <td>PhD</td>\n",
       "      <td>Engineering</td>\n",
       "      <td>5</td>\n",
       "      <td>97523</td>\n",
       "      <td>10240</td>\n",
       "    </tr>\n",
       "    <tr>\n",
       "      <th>8</th>\n",
       "      <td>Graphic Designer</td>\n",
       "      <td>Female</td>\n",
       "      <td>33</td>\n",
       "      <td>5</td>\n",
       "      <td>High School</td>\n",
       "      <td>Engineering</td>\n",
       "      <td>5</td>\n",
       "      <td>112976</td>\n",
       "      <td>9836</td>\n",
       "    </tr>\n",
       "    <tr>\n",
       "      <th>9</th>\n",
       "      <td>Sales Associate</td>\n",
       "      <td>Female</td>\n",
       "      <td>35</td>\n",
       "      <td>5</td>\n",
       "      <td>College</td>\n",
       "      <td>Engineering</td>\n",
       "      <td>5</td>\n",
       "      <td>106524</td>\n",
       "      <td>9941</td>\n",
       "    </tr>\n",
       "  </tbody>\n",
       "</table>\n",
       "</div>"
      ],
      "text/plain": [
       "              JobTitle  Gender  Age  PerfEval    Education            Dept  \\\n",
       "0     Graphic Designer  Female   18         5      College      Operations   \n",
       "1    Software Engineer    Male   21         5      College      Management   \n",
       "2  Warehouse Associate  Female   19         4          PhD  Administration   \n",
       "3    Software Engineer    Male   20         5      Masters           Sales   \n",
       "4     Graphic Designer    Male   26         5      Masters     Engineering   \n",
       "5                   IT  Female   20         5          PhD      Operations   \n",
       "6     Graphic Designer  Female   20         5      College           Sales   \n",
       "7    Software Engineer    Male   18         4          PhD     Engineering   \n",
       "8     Graphic Designer  Female   33         5  High School     Engineering   \n",
       "9      Sales Associate  Female   35         5      College     Engineering   \n",
       "\n",
       "   Seniority  BasePay  Bonus  \n",
       "0          2    42363   9938  \n",
       "1          5   108476  11128  \n",
       "2          5    90208   9268  \n",
       "3          4   108080  10154  \n",
       "4          5    99464   9319  \n",
       "5          4    70890  10126  \n",
       "6          4    67585  10541  \n",
       "7          5    97523  10240  \n",
       "8          5   112976   9836  \n",
       "9          5   106524   9941  "
      ]
     },
     "execution_count": 6,
     "metadata": {},
     "output_type": "execute_result"
    }
   ],
   "source": [
    "glassdoor.head(10)"
   ]
  },
  {
   "cell_type": "code",
   "execution_count": null,
   "id": "intensive-humanity",
   "metadata": {},
   "outputs": [],
   "source": []
  }
 ],
 "metadata": {
  "kernelspec": {
   "display_name": "Python 3",
   "language": "python",
   "name": "python3"
  },
  "language_info": {
   "codemirror_mode": {
    "name": "ipython",
    "version": 3
   },
   "file_extension": ".py",
   "mimetype": "text/x-python",
   "name": "python",
   "nbconvert_exporter": "python",
   "pygments_lexer": "ipython3",
   "version": "3.9.1"
  }
 },
 "nbformat": 4,
 "nbformat_minor": 5
}
